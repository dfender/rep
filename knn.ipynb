{
 "cells": [
  {
   "cell_type": "markdown",
   "metadata": {
    "collapsed": true
   },
   "source": [
    "# KNN"
   ]
  },
  {
   "cell_type": "code",
   "execution_count": 61,
   "metadata": {
    "collapsed": true
   },
   "outputs": [],
   "source": [
    "import numpy as np\n",
    "import pandas as pd\n",
    "import time\n",
    "from scipy.spatial.distance import euclidean\n",
    "from scipy import stats\n",
    "from matplotlib import pyplot as plt"
   ]
  },
  {
   "cell_type": "code",
   "execution_count": 62,
   "metadata": {
    "collapsed": true
   },
   "outputs": [],
   "source": [
    "def splitDataset(data, splitRatio, number_of_rows):\n",
    "    # Shuffled data\n",
    "    data_copy = data.copy()\n",
    "    np.random.shuffle(data_copy)\n",
    "    \n",
    "    # Cut dataset:\n",
    "    data_part = data_copy[:int(number_of_rows)]\n",
    "    \n",
    "    # Training set size \n",
    "    trainSize = int(len(data_part) * splitRatio)\n",
    "    \n",
    "    #Split data\n",
    "    data_train = data_part[: trainSize]\n",
    "    data_test = data_part[trainSize : data.shape[0]]\n",
    "    \n",
    "    return data_train, data_test"
   ]
  },
  {
   "cell_type": "code",
   "execution_count": 63,
   "metadata": {
    "collapsed": true
   },
   "outputs": [],
   "source": [
    "def calc_all_distancies(data_x, unknown):\n",
    "    '''\n",
    "        Function calculates distancies between each pairs of known and unknown points\n",
    "    '''\n",
    "    num_pred = unknown.shape[0]\n",
    "    num_data = data_x.shape[0]\n",
    "    dists = np.zeros((num_pred,num_data))\n",
    "    for i in range(num_pred):\n",
    "        for j in range(num_data):\n",
    "            dists[i,j] = euclidean(unknown[i],data_x[j])\n",
    "    return dists"
   ]
  },
  {
   "cell_type": "code",
   "execution_count": 64,
   "metadata": {
    "collapsed": true
   },
   "outputs": [],
   "source": [
    "def predict(dists, data_y, k):\n",
    "    '''\n",
    "        Function predicts the class of the unknown point by the k nearest neighbours\n",
    "    '''\n",
    "    num_pred = dists.shape[0]\n",
    "    y_pred = np.zeros(num_pred)\n",
    "    for j in range(num_pred):\n",
    "        dst = dists[j]\n",
    "        closest_y = data_y[dst.argsort()[:k]]\n",
    "        y_pred[j] = stats.mode(closest_y, axis=None).mode\n",
    "    return y_pred"
   ]
  },
  {
   "cell_type": "code",
   "execution_count": 65,
   "metadata": {
    "collapsed": true
   },
   "outputs": [],
   "source": [
    "def accuracy(predicted,real):\n",
    "    '''\n",
    "        Calculates accuracy percentage\n",
    "    '''\n",
    "    total = len(real)\n",
    "    s = sum(real == predicted)\n",
    "    return 100*s/total"
   ]
  },
  {
   "cell_type": "code",
   "execution_count": 66,
   "metadata": {
    "collapsed": true
   },
   "outputs": [],
   "source": [
    "def compare_k(data_x, data_y, test_x, test_y, kmin=1, kmax=50, kstep=4):\n",
    "    '''\n",
    "        Main comparing function\n",
    "    '''\n",
    "    k = list(range(kmin, kmax, kstep))\n",
    "    steps = len(k)\n",
    "    features = np.zeros((steps,3))\n",
    "    \n",
    "    print('Evaluating distancies started')\n",
    "    \n",
    "    t0 = time.time()\n",
    "    distancies = calc_all_distancies(data_x,test_x)\n",
    "    miss = []\n",
    "    t = time.time()\n",
    "    s1 = data_x.shape[0]\n",
    "    s2 = test_x.shape[0]\n",
    "    \n",
    "    print('Distancies completed in %d seconds for %dx%d' %(t-t0,s1,s2))\n",
    "    \n",
    "    for j in range(steps):\n",
    "        t0 = time.time()\n",
    "        yk = predict(distancies,data_y,k[j])\n",
    "        t = time.time() - t0\n",
    "        features[j][0] = k[j]\n",
    "        features[j][1] = accuracy(yk,test_y)\n",
    "        features[j][2] = t\n",
    "        cond = yk!=test_y\n",
    "        miss.append({\n",
    "            'k':k[j],\n",
    "            'acc':features[j][1],\n",
    "            'x':test_x[cond]}\n",
    "        )\n",
    "        \n",
    "        print('k={0}, accuracy = {1}%, time = {2} sec'.format(k[j],features[j][1],features[j][2]))\n",
    "        \n",
    "    return features, miss"
   ]
  },
  {
   "cell_type": "code",
   "execution_count": 67,
   "metadata": {},
   "outputs": [
    {
     "name": "stdout",
     "output_type": "stream",
     "text": [
      "Data shape:  (245057, 4)\n"
     ]
    }
   ],
   "source": [
    "data = np.genfromtxt(\"Skin_NonSkin.txt\", delimiter = \"\\t\")\n",
    "print('Data shape: ', data.shape)\n"
   ]
  },
  {
   "cell_type": "markdown",
   "metadata": {},
   "source": [
    "## Select some part of data to be tested"
   ]
  },
  {
   "cell_type": "code",
   "execution_count": 73,
   "metadata": {},
   "outputs": [],
   "source": [
    "number_of_rows = 1000\n",
    "points = data[:int(number_of_rows)]\n",
    "\n",
    "ratio = 0.67 \n",
    "data_train, data_test = splitDataset(data, ratio, number_of_rows)\n",
    "train_Y = data_train[:, -1]\n",
    "train_X = data_train[:, range(0, 3)]\n",
    "test_Y = data_test[:, -1]\n",
    "test_X = data_test[:, range(0, 3)]\n"
   ]
  },
  {
   "cell_type": "code",
   "execution_count": 74,
   "metadata": {},
   "outputs": [
    {
     "name": "stdout",
     "output_type": "stream",
     "text": [
      "(670, 3)\n",
      "(330, 3)\n"
     ]
    }
   ],
   "source": [
    "print(x_trn.shape)\n",
    "print(x_tst.shape)"
   ]
  },
  {
   "cell_type": "markdown",
   "metadata": {},
   "source": [
    "## Calculate distancies & compare result for different k"
   ]
  },
  {
   "cell_type": "code",
   "execution_count": 75,
   "metadata": {},
   "outputs": [
    {
     "name": "stdout",
     "output_type": "stream",
     "text": [
      "Evaluating distancies started\n",
      "Distancies completed in 30 seconds for 670x330\n",
      "k=1, accuracy = 100.0%, time = 0.12500715255737305 sec\n",
      "k=21, accuracy = 100.0%, time = 0.17200970649719238 sec\n",
      "k=41, accuracy = 100.0%, time = 0.13100743293762207 sec\n",
      "k=61, accuracy = 100.0%, time = 0.15700888633728027 sec\n",
      "k=81, accuracy = 100.0%, time = 0.13400769233703613 sec\n",
      "k=101, accuracy = 100.0%, time = 0.1520087718963623 sec\n",
      "k=121, accuracy = 100.0%, time = 0.13300752639770508 sec\n",
      "k=141, accuracy = 100.0%, time = 0.1540086269378662 sec\n",
      "k=161, accuracy = 100.0%, time = 0.13600754737854004 sec\n",
      "k=181, accuracy = 100.0%, time = 0.15900921821594238 sec\n"
     ]
    }
   ],
   "source": [
    "res, ms = compare_k(x_trn, y_trn, x_tst, y_tst,1,201,20)"
   ]
  },
  {
   "cell_type": "markdown",
   "metadata": {},
   "source": [
    "## Visualisation"
   ]
  },
  {
   "cell_type": "code",
   "execution_count": 76,
   "metadata": {},
   "outputs": [
    {
     "data": {
      "image/png": "[encoded data removed]",
      "text/plain": [
       "<matplotlib.figure.Figure at 0xbfa1b38>"
      ]
     },
     "metadata": {},
     "output_type": "display_data"
    },
    {
     "data": {
      "image/png": "[encoded data removed]",
      "text/plain": [
       "<matplotlib.figure.Figure at 0x1024ac88>"
      ]
     },
     "metadata": {},
     "output_type": "display_data"
    },
    {
     "data": {
      "image/png": "[encoded data removed]",
      "text/plain": [
       "<matplotlib.figure.Figure at 0xb713f60>"
      ]
     },
     "metadata": {},
     "output_type": "display_data"
    }
   ],
   "source": [
    "# initial data\n",
    "fig = plt.figure()\n",
    "plt.scatter(x1[:, 0], x1[:, 1], color='c',label='class1')\n",
    "plt.scatter(x2[:, 0], x2[:, 1], color='y',label='class2')\n",
    "# randomly selected data\n",
    "plt.scatter(x_tst[:,0],x_tst[:,1],color='b',label='test')\n",
    "plt.legend(loc='best')\n",
    "\n",
    "\n",
    "# missidentifies for k = value\n",
    "plt.figure()\n",
    "plt.scatter(x1[:, 0], x1[:, 1], color='c', label='class1')\n",
    "plt.scatter(x2[:, 0], x2[:, 1], color='y', label='class2')\n",
    "plt.scatter(ms[-1]['x'][:,0],ms[-1]['x'][:,1],color='r',label='missidenity,k=%d'%ms[-1]['k'])\n",
    "plt.legend(loc='best')\n",
    "plt.xlabel('x1')\n",
    "plt.ylabel('x2')\n",
    "plt.figure()\n",
    "\n",
    "# accuracy plot\n",
    "k = plt.scatter(res[:, 0], res[:, 1])\n",
    "plt.ylim(min(res[:, 1]) - 2, max(res[:, 1])+1, 4)\n",
    "plt.xlabel('k')\n",
    "plt.ylabel('accuracy, %')\n",
    "plt.show()"
   ]
  },
  {
   "cell_type": "code",
   "execution_count": null,
   "metadata": {
    "collapsed": true
   },
   "outputs": [],
   "source": []
  }
 ],
 "metadata": {
  "kernelspec": {
   "display_name": "Python 3",
   "language": "python",
   "name": "python3"
  },
  "language_info": {
   "codemirror_mode": {
    "name": "ipython",
    "version": 3
   },
   "file_extension": ".py",
   "mimetype": "text/x-python",
   "name": "python",
   "nbconvert_exporter": "python",
   "pygments_lexer": "ipython3",
   "version": "3.6.3"
  }
 },
 "nbformat": 4,
 "nbformat_minor": 1
}
