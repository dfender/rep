{
 "cells": [
  {
   "cell_type": "markdown",
   "metadata": {},
   "source": [
    "## Important imports"
   ]
  },
  {
   "cell_type": "code",
   "execution_count": 55,
   "metadata": {},
   "outputs": [],
   "source": [
    "import os\n",
    "import json\n",
    "import pickle\n",
    "import csv\n",
    "import calendar\n",
    "import math\n",
    "import csv\n",
    "import copy\n",
    "import pandas as pd\n",
    "import numpy as np\n",
    "import matplotlib\n",
    "import tensorflow as tf\n",
    "import matplotlib.pyplot as plt\n",
    "from matplotlib.colors import LogNorm\n",
    "from matplotlib import gridspec\n",
    "from matplotlib.ticker import  MultipleLocator, FormatStrFormatter\n",
    "from scipy.interpolate import spline\n",
    "from sklearn.preprocessing import LabelEncoder\n",
    "from sklearn.model_selection import train_test_split\n",
    "from sklearn.preprocessing import scale\n",
    "from sklearn.cluster import estimate_bandwidth, MeanShift\n",
    "from sklearn.manifold import TSNE\n",
    "from keras.models import load_model\n",
    "from keras.models import Sequential\n",
    "from keras.optimizers import SGD, Adam, Adagrad\n",
    "from keras import backend as K\n",
    "from keras.layers import Merge\n",
    "from keras.layers.embeddings import Embedding\n",
    "from keras.layers.core import Dense, Reshape, Activation, Dropout\n",
    "from keras.callbacks import ModelCheckpoint\n",
    "\n",
    "# Display plots inline\n",
    "%matplotlib inline\n",
    "\n",
    "# Fix random seed for reproducibility\n",
    "np.random.seed(42)"
   ]
  },
  {
   "cell_type": "markdown",
   "metadata": {},
   "source": [
    "## Some useful utilities"
   ]
  },
  {
   "cell_type": "code",
   "execution_count": 20,
   "metadata": {
    "collapsed": true
   },
   "outputs": [],
   "source": [
    "# Coordinates of Porto's city centre\n",
    "porto = [41.1579, -8.6291]"
   ]
  },
  {
   "cell_type": "code",
   "execution_count": 21,
   "metadata": {
    "collapsed": true
   },
   "outputs": [],
   "source": [
    "def np_haversine(latlon1, latlon2):\n",
    "    \"\"\"\n",
    "    Numpy version of the Haversine function to calculate distances between two sets of points.\n",
    "    \n",
    "    \"\"\"\n",
    "    lat1 = latlon1[:, 0]\n",
    "    lon1 = latlon1[:, 1]\n",
    "    lat2 = latlon2[:, 0]\n",
    "    lon2 = latlon2[:, 1]\n",
    "    \n",
    "    REarth = 6371\n",
    "    lat = np.abs(lat1 - lat2) * np.pi / 180\n",
    "    lon = np.abs(lon1 - lon2) * np.pi / 180\n",
    "    lat1 = lat1 * np.pi / 180\n",
    "    lat2 = lat2 * np.pi / 180\n",
    "    a = np.sin(lat / 2) * np.sin(lat / 2) + np.cos(lat1) * np.cos(lat2) * np.sin(lon / 2) * np.sin(lon / 2)\n",
    "    d = 2 * np.arctan2(np.sqrt(a), np.sqrt(1 - a))\n",
    "    return REarth * d"
   ]
  },
  {
   "cell_type": "code",
   "execution_count": 22,
   "metadata": {},
   "outputs": [],
   "source": [
    "def tf_haversine(latlon1, latlon2):\n",
    "    \"\"\"\n",
    "    Tensorflow version of the Haversine function to calculate distances between two sets of points.\n",
    "    \"\"\"\n",
    "    lat1 = latlon1[:, 0]\n",
    "    lon1 = latlon1[:, 1]\n",
    "    lat2 = latlon2[:, 0]\n",
    "    lon2 = latlon2[:, 1]\n",
    "\n",
    "    REarth = 6371\n",
    "    lat = tf.abs(lat1 - lat2) * np.pi / 180\n",
    "    lon = tf.abs(lon1 - lon2) * np.pi / 180\n",
    "    lat1 = lat1 * np.pi / 180\n",
    "    lat2 = lat2 * np.pi / 180\n",
    "    a = tf.sin(lat / 2) * tf.sin(lat / 2) + tf.cos(lat1) * tf.cos(lat2) * tf.sin(lon / 2) * tf.sin(lon / 2)\n",
    "    d = 2 * tf.atan2(tf.sqrt(a), tf.sqrt(1 - a))\n",
    "    return REarth * d"
   ]
  },
  {
   "cell_type": "code",
   "execution_count": 23,
   "metadata": {
    "collapsed": true
   },
   "outputs": [],
   "source": [
    "def get_clusters(coords):\n",
    "    \"\"\"\n",
    "    Estimate clusters for the given list of coordinates.\n",
    "    \"\"\"\n",
    "    # reduce the spatial dataset by rounding up the coordinates to the 4th decimal\n",
    "    clusters = pd.DataFrame({\n",
    "        'approx_latitudes': coords[:,0].round(4),\n",
    "        'approx_longitudes': coords[:,1].round(4)\n",
    "    })\n",
    "    clusters = clusters.drop_duplicates(['approx_latitudes', 'approx_longitudes'])\n",
    "    clusters = clusters.as_matrix()\n",
    "    \n",
    "    # Further reduce the number of clusters\n",
    "    bandwidth = estimate_bandwidth(clusters, quantile=0.0002)\n",
    "    ms = MeanShift(bandwidth=bandwidth, bin_seeding=True)\n",
    "    ms.fit(clusters)\n",
    "    return ms.cluster_centers_"
   ]
  },
  {
   "cell_type": "markdown",
   "metadata": {},
   "source": [
    "## Loading and preprocessing of data"
   ]
  },
  {
   "cell_type": "code",
   "execution_count": 24,
   "metadata": {
    "collapsed": true
   },
   "outputs": [],
   "source": [
    "class Data:\n",
    "    \"\"\"\n",
    "    Class for holding a number of datasets and metadata.\n",
    "    \"\"\"\n",
    "    pass\n"
   ]
  },
  {
   "cell_type": "code",
   "execution_count": 25,
   "metadata": {
    "collapsed": true
   },
   "outputs": [],
   "source": [
    "def convert_coordinates(string):\n",
    "    \"\"\"\n",
    "    Loads list of coordinates from given string and swap out longitudes & latitudes.\n",
    "\n",
    "    \"\"\"\n",
    "    return [(lat, long) for (long, lat) in json.loads(string)]"
   ]
  },
  {
   "cell_type": "code",
   "execution_count": 26,
   "metadata": {
    "collapsed": true
   },
   "outputs": [],
   "source": [
    "def random_truncate(coords):\n",
    "    \"\"\"\n",
    "    Randomly truncate the end of the trip's polyline points to simulate partial trips.\n",
    "\n",
    "    \"\"\"\n",
    "    \n",
    "    # There's no need to truncate if there's not more than one item\n",
    "    if len(coords) <= 1:\n",
    "        return coords\n",
    "    \n",
    "    # Pick a random number of items to be removed from the list.\n",
    "    # (We do \"-1\" to ensure we have at least one item left)\n",
    "    n = np.random.randint(len(coords)-1)\n",
    "\n",
    "    if n > 0:\n",
    "        # Return the list without its last n items\n",
    "        return coords[:-n]\n",
    "    else:\n",
    "        # No truncation needed in this case\n",
    "        return coords"
   ]
  },
  {
   "cell_type": "code",
   "execution_count": 27,
   "metadata": {
    "collapsed": true
   },
   "outputs": [],
   "source": [
    "def encode_feature(feature, train, test):\n",
    "    \"\"\"\n",
    "    Encode the labels for the given feature across both the train and test datasets.\n",
    "    \n",
    "    \"\"\"\n",
    "    encoder = LabelEncoder()\n",
    "    train_values = train[feature].copy()\n",
    "    test_values = test[feature].copy()\n",
    "    # Replace missing values with 0's so we can later encode them\n",
    "    train_values[np.isnan(train_values)] = 0\n",
    "    test_values[np.isnan(test_values)] = 0\n",
    "    # Fit the labels across all possible values in both datasets\n",
    "    encoder.fit(pd.concat([train_values, test_values]))\n",
    "    # Add new column to the datasets with encoded values\n",
    "    train[feature + '_ENCODED'] = encoder.transform(train_values)\n",
    "    test[feature + '_ENCODED'] = encoder.transform(test_values)\n",
    "    return encoder"
   ]
  },
  {
   "cell_type": "code",
   "execution_count": 28,
   "metadata": {
    "collapsed": true
   },
   "outputs": [],
   "source": [
    "def extract_features(df):\n",
    "    \"\"\"\n",
    "    Extract some features from the original columns in the given dataset.\n",
    "    \n",
    "    \"\"\"\n",
    "    # Convert polyline values from strings to list objects\n",
    "    df['POLYLINE'] = df['POLYLINE'].apply(convert_coordinates)\n",
    "    # Extract start latitudes and longitudes\n",
    "    df['START_LAT'] = df['POLYLINE'].apply(lambda x: x[0][0])\n",
    "    df['START_LONG'] = df['POLYLINE'].apply(lambda x: x[0][1])\n",
    "    # Extract quarter hour of day\n",
    "    datetime_index = pd.DatetimeIndex(df['TIMESTAMP'])\n",
    "    df['QUARTER_HOUR'] = datetime_index.hour * 4 + datetime_index.minute / 15   \n",
    "    # Extract day of week\n",
    "    df['DAY_OF_WEEK'] = datetime_index.dayofweek\n",
    "    # Extract week of year\n",
    "    df['WEEK_OF_YEAR'] = datetime_index.weekofyear - 1\n",
    "    # Extract trip duration (GPS coordinates are recorded every 15 seconds)\n",
    "    df['DURATION'] = df['POLYLINE'].apply(lambda x: 15 * len(x))"
   ]
  },
  {
   "cell_type": "code",
   "execution_count": 29,
   "metadata": {
    "collapsed": true
   },
   "outputs": [],
   "source": [
    "def remove_outliers(df, labels):\n",
    "    \"\"\"\n",
    "    Remove some outliers that could otherwise undermine the training's results.\n",
    "    \n",
    "    \"\"\"\n",
    "    # Remove trips that are either extremely long or short (potentially due to GPS recording issue)\n",
    "    indices = np.where((df.DURATION > 60) & (df.DURATION <= 2 * 3600))\n",
    "    df = df.iloc[indices]\n",
    "    labels = labels[indices]\n",
    "    \n",
    "    # Remove trips that are too far away from Porto (also likely due to GPS issues)\n",
    "    bounds = (  # Bounds retrieved using http://boundingbox.klokantech.com\n",
    "        (41.052431, -8.727951),\n",
    "        (41.257678, -8.456039)\n",
    "    )\n",
    "    indices = np.where(\n",
    "        (labels[:,0]  >= bounds[0][0]) &\n",
    "        (labels[:,1] >= bounds[0][1]) &\n",
    "        (labels[:,0]  <= bounds[1][0]) &\n",
    "        (labels[:,1] <= bounds[1][1])\n",
    "    )\n",
    "    df = df.iloc[indices]\n",
    "    labels = labels[indices]\n",
    "    \n",
    "    return df, labels"
   ]
  },
  {
   "cell_type": "code",
   "execution_count": 30,
   "metadata": {
    "collapsed": true
   },
   "outputs": [],
   "source": [
    "def load_data():\n",
    "    \"\"\"\n",
    "    Loads data from CSV files\n",
    "    \"\"\"\n",
    "    datasets = []\n",
    "    for name in ['train', 'test']:\n",
    "        # Load original CSV file\n",
    "        csv_file = '%s.csv' % name\n",
    "        df = pd.read_csv(csv_file)\n",
    "        # Ignore items that are missing data\n",
    "        df = df[df['MISSING_DATA'] == False]\n",
    "        # Ignore items that don't have polylines\n",
    "        df = df[df['POLYLINE'] != '[]']\n",
    "        # Delete the now useless column to save a bit of memory\n",
    "        df.drop('MISSING_DATA', axis=1, inplace=True)\n",
    "        # Delete an useless column (all values are 'A')\n",
    "        df.drop('DAY_TYPE', axis=1, inplace=True)\n",
    "        # Fix format of timestamps\n",
    "        df['TIMESTAMP'] = df['TIMESTAMP'].astype('datetime64[s]')\n",
    "        # Extract some new features\n",
    "        extract_features(df)\n",
    "        datasets.append(df)\n",
    "    \n",
    "    train, competition_test = datasets\n",
    "\n",
    "    # Encode some features\n",
    "    client_encoder = encode_feature('ORIGIN_CALL', train, competition_test)\n",
    "    taxi_encoder = encode_feature('TAXI_ID', train, competition_test)\n",
    "    stand_encoder = encode_feature('ORIGIN_STAND', train, competition_test)\n",
    "\n",
    "    # Randomly truncate the trips to simulate partial trips like in the competition's test dataset.\n",
    "    train['POLYLINE_FULL'] = train['POLYLINE'].copy() \n",
    "    train['POLYLINE'] = train['POLYLINE'].apply(random_truncate)\n",
    "\n",
    "    # The labels are the last polyline coordinates, i.e. the trips' destinations.\n",
    "    train_labels = np.column_stack([\n",
    "        train['POLYLINE_FULL'].apply(lambda x: x[-1][0]),\n",
    "        train['POLYLINE_FULL'].apply(lambda x: x[-1][1])\n",
    "    ])\n",
    "        \n",
    "    # Remove some outliers\n",
    "    train, train_labels = remove_outliers(train, train_labels)\n",
    "\n",
    "    # Gather some metadata that will later be useful during training\n",
    "    metadata = {\n",
    "        'n_quarter_hours': 96,  # Number of quarter of hours in one day (i.e. 24 * 4).\n",
    "        'n_days_per_week': 7,\n",
    "        'n_weeks_per_year': 52,\n",
    "        'n_client_ids': len(client_encoder.classes_),\n",
    "        'n_taxi_ids': len(taxi_encoder.classes_),\n",
    "        'n_stand_ids': len(stand_encoder.classes_),\n",
    "    }\n",
    "        \n",
    "    # Split original train dataset into new train (98%), validation (1%) and test (1%) datasets.        \n",
    "    train, validation, train_labels, validation_labels = train_test_split(train, train_labels, test_size=0.02)\n",
    "    validation, test, validation_labels, test_labels = train_test_split(validation, validation_labels, test_size=0.5)\n",
    "    \n",
    "    data = Data()\n",
    "    data.__dict__.update({\n",
    "        'train': train,\n",
    "        'train_labels': train_labels,\n",
    "        'validation': validation,\n",
    "        'validation_labels': validation_labels,\n",
    "        'test': test,\n",
    "        'test_labels': test_labels,\n",
    "        'competition_test': competition_test,\n",
    "        'metadata': metadata,\n",
    "    })\n",
    "    return data"
   ]
  },
  {
   "cell_type": "markdown",
   "metadata": {},
   "source": [
    "## Creating the model"
   ]
  },
  {
   "cell_type": "code",
   "execution_count": 31,
   "metadata": {
    "collapsed": true
   },
   "outputs": [],
   "source": [
    "def start_new_session():\n",
    "    \"\"\"\n",
    "    Starts a new Tensorflow session.\n",
    "    \"\"\"\n",
    "    \n",
    "    # Make sure the session only uses the GPU memory that it actually needs\n",
    "    config = tf.ConfigProto()\n",
    "    config.gpu_options.allow_growth = True\n",
    "    \n",
    "    session = tf.Session(config=config, graph=tf.get_default_graph())\n",
    "    K.tensorflow_backend.set_session(session)\n"
   ]
  },
  {
   "cell_type": "code",
   "execution_count": 32,
   "metadata": {
    "collapsed": true
   },
   "outputs": [],
   "source": [
    "def first_last_k(coords):\n",
    "    \"\"\"\n",
    "    Returns a list with the first k and last k GPS coordinates from the given trip.\n",
    "    The returned list contains 4k values (latitudes and longitudes for 2k points).\n",
    "    \"\"\"\n",
    "    k = 5\n",
    "    partial = [coords[0] for i in range(2*k)]\n",
    "    num_coords = len(coords)\n",
    "    if num_coords < 2*k:\n",
    "        partial[-num_coords:] = coords\n",
    "    else:\n",
    "        partial[:k] = coords[:k]\n",
    "        partial[-k:] = coords[-k:]\n",
    "    partial = np.row_stack(partial)\n",
    "    return np.array(partial).flatten()"
   ]
  },
  {
   "cell_type": "code",
   "execution_count": 33,
   "metadata": {
    "collapsed": true
   },
   "outputs": [],
   "source": [
    "def process_features(df):\n",
    "    \"\"\"\n",
    "    Process the features required by our model from the given dataframe.\n",
    "    Return the features in a list so that they can be merged in our model's input layer.\n",
    "    \"\"\"\n",
    "    # Fetch the first and last GPS coordinates\n",
    "    coords = np.row_stack(df['POLYLINE'].apply(first_last_k))\n",
    "    # Standardize latitudes (odd columns) and longitudes (even columns)\n",
    "    latitudes = coords[:,::2]\n",
    "    coords[:,::2] = scale(latitudes)\n",
    "    longitudes = coords[:,1::2]\n",
    "    coords[:,1::2] = scale(longitudes)\n",
    "    \n",
    "    return [\n",
    "        df['QUARTER_HOUR'].as_matrix(),\n",
    "        df['DAY_OF_WEEK'].as_matrix(),\n",
    "        df['WEEK_OF_YEAR'].as_matrix(),\n",
    "        df['ORIGIN_CALL_ENCODED'].as_matrix(),\n",
    "        df['TAXI_ID_ENCODED'].as_matrix(),\n",
    "        df['ORIGIN_STAND_ENCODED'].as_matrix(),\n",
    "        coords,\n",
    "    ]"
   ]
  },
  {
   "cell_type": "code",
   "execution_count": 34,
   "metadata": {
    "collapsed": true
   },
   "outputs": [],
   "source": [
    "def create_model(metadata, clusters):\n",
    "    \"\"\"\n",
    "    Creates all the layers for our neural network model.\n",
    "    \"\"\"\n",
    "\n",
    "    # Arbitrary dimension for all embeddings\n",
    "    embedding_dim = 10\n",
    "\n",
    "    # Quarter hour of the day embedding\n",
    "    quarter_hour = Sequential()\n",
    "    quarter_hour.add(Embedding(metadata['n_quarter_hours'], embedding_dim, input_length=1))\n",
    "    quarter_hour.add(Reshape((embedding_dim,)))\n",
    "\n",
    "    # Day of the week embedding\n",
    "    day_of_week = Sequential()\n",
    "    day_of_week.add(Embedding(metadata['n_days_per_week'], embedding_dim, input_length=1))\n",
    "    day_of_week.add(Reshape((embedding_dim,)))\n",
    "\n",
    "    # Week of the year embedding\n",
    "    week_of_year = Sequential()\n",
    "    week_of_year.add(Embedding(metadata['n_weeks_per_year'], embedding_dim, input_length=1))\n",
    "    week_of_year.add(Reshape((embedding_dim,)))\n",
    "\n",
    "    # Client ID embedding\n",
    "    client_ids = Sequential()\n",
    "    client_ids.add(Embedding(metadata['n_client_ids'], embedding_dim, input_length=1))\n",
    "    client_ids.add(Reshape((embedding_dim,)))\n",
    "\n",
    "    # Taxi ID embedding\n",
    "    taxi_ids = Sequential()\n",
    "    taxi_ids.add(Embedding(metadata['n_taxi_ids'], embedding_dim, input_length=1))\n",
    "    taxi_ids.add(Reshape((embedding_dim,)))\n",
    "\n",
    "    # Taxi stand ID embedding\n",
    "    stand_ids = Sequential()\n",
    "    stand_ids.add(Embedding(metadata['n_stand_ids'], embedding_dim, input_length=1))\n",
    "    stand_ids.add(Reshape((embedding_dim,)))\n",
    "\n",
    "    # GPS coordinates (5 first lat/long and 5 latest lat/long, therefore 20 values)\n",
    "    coords = Sequential()\n",
    "    coords.add(Dense(1, input_dim=20, init='normal'))\n",
    "\n",
    "    # Merge all the inputs into a single input layer\n",
    "    model = Sequential()\n",
    "    model.add(Merge([\n",
    "                quarter_hour,\n",
    "                day_of_week,\n",
    "                week_of_year,\n",
    "                client_ids,\n",
    "                taxi_ids,\n",
    "                stand_ids,\n",
    "                coords\n",
    "            ], mode='concat'))\n",
    "\n",
    "    # Simple hidden layer\n",
    "    model.add(Dense(500))\n",
    "    model.add(Activation('relu'))\n",
    "\n",
    "    # Determine cluster probabilities using softmax\n",
    "    model.add(Dense(len(clusters)))\n",
    "    model.add(Activation('softmax'))\n",
    "\n",
    "    # Final activation layer: calculate the destination as the weighted mean of cluster coordinates\n",
    "    cast_clusters = K.cast_to_floatx(clusters)\n",
    "    def destination(probabilities):\n",
    "        return tf.matmul(probabilities, cast_clusters)\n",
    "    model.add(Activation(destination))\n",
    "\n",
    "    # Compile the model\n",
    "    optimizer = SGD(lr=0.01, momentum=0.9, clipvalue=1.)  # Use `clipvalue` to prevent exploding gradients\n",
    "    model.compile(loss=tf_haversine, optimizer=optimizer)\n",
    "\n",
    "    return model"
   ]
  },
  {
   "cell_type": "markdown",
   "metadata": {},
   "source": [
    "## Training the model"
   ]
  },
  {
   "cell_type": "code",
   "execution_count": 35,
   "metadata": {},
   "outputs": [],
   "source": [
    "def full_train(n_epochs=20, batch_size=200):\n",
    "    \"\"\"\n",
    "    Runs the complete training process.\n",
    "    \"\"\"\n",
    "    \n",
    "    # Load initial data\n",
    "    print (\"Loading data...\")\n",
    "    data = load_data()\n",
    "\n",
    "    # Estimate the GPS clusters\n",
    "    print (\"Estimating clusters...\")\n",
    "    clusters = get_clusters(data.train_labels)\n",
    "   \n",
    "    # Create model\n",
    "    print (\"Creating model...\")\n",
    "    start_new_session()\n",
    "    model = create_model(data.metadata, clusters)\n",
    "    \n",
    "    # Run the training\n",
    "    print (\"Start training...\")\n",
    "    history = model.fit(\n",
    "        process_features(data.train), data.train_labels,\n",
    "        nb_epoch=n_epochs, batch_size=batch_size,\n",
    "        validation_data=(process_features(data.validation), data.validation_labels)\n",
    "    )\n",
    "    return history"
   ]
  },
  {
   "cell_type": "markdown",
   "metadata": {},
   "source": [
    "## Running"
   ]
  },
  {
   "cell_type": "code",
   "execution_count": 36,
   "metadata": {},
   "outputs": [
    {
     "name": "stdout",
     "output_type": "stream",
     "text": [
      "Loading data...\n",
      "Estimating clusters...\n",
      "Creating model...\n"
     ]
    },
    {
     "name": "stderr",
     "output_type": "stream",
     "text": [
      "C:\\ProgramData\\Anaconda3\\lib\\site-packages\\ipykernel_launcher.py:41: UserWarning: Update your `Dense` call to the Keras 2 API: `Dense(1, input_dim=20, kernel_initializer=\"normal\")`\n",
      "C:\\ProgramData\\Anaconda3\\lib\\site-packages\\ipykernel_launcher.py:53: UserWarning: The `Merge` layer is deprecated and will be removed after 08/2017. Use instead layers from `keras.layers.merge`, e.g. `add`, `concatenate`, etc.\n"
     ]
    },
    {
     "name": "stdout",
     "output_type": "stream",
     "text": [
      "Start training...\n"
     ]
    },
    {
     "name": "stderr",
     "output_type": "stream",
     "text": [
      "C:\\ProgramData\\Anaconda3\\lib\\site-packages\\keras\\models.py:944: UserWarning: The `nb_epoch` argument in `fit` has been renamed `epochs`.\n",
      "  warnings.warn('The `nb_epoch` argument in `fit` '\n"
     ]
    },
    {
     "name": "stdout",
     "output_type": "stream",
     "text": [
      "Train on 23534 samples, validate on 240 samples\n",
      "Epoch 1/20\n",
      "23534/23534 [==============================] - 102s 4ms/step - loss: 3.0805 - val_loss: 3.0650\n",
      "Epoch 2/20\n",
      "23534/23534 [==============================] - 100s 4ms/step - loss: 3.0780 - val_loss: 3.0619\n",
      "Epoch 3/20\n",
      "23534/23534 [==============================] - 98s 4ms/step - loss: 3.0751 - val_loss: 3.0586\n",
      "Epoch 4/20\n",
      "23534/23534 [==============================] - 98s 4ms/step - loss: 3.0709 - val_loss: 3.0532\n",
      "Epoch 5/20\n",
      "23534/23534 [==============================] - 98s 4ms/step - loss: 3.0631 - val_loss: 3.0408\n",
      "Epoch 6/20\n",
      "23534/23534 [==============================] - 98s 4ms/step - loss: 3.0435 - val_loss: 3.0064\n",
      "Epoch 7/20\n",
      "23534/23534 [==============================] - 99s 4ms/step - loss: 2.9741 - val_loss: 2.8743\n",
      "Epoch 8/20\n",
      "23534/23534 [==============================] - 99s 4ms/step - loss: 2.6891 - val_loss: 2.6271\n",
      "Epoch 9/20\n",
      "23534/23534 [==============================] - 99s 4ms/step - loss: 2.4299 - val_loss: 2.4718\n",
      "Epoch 10/20\n",
      "23534/23534 [==============================] - 98s 4ms/step - loss: 2.3766 - val_loss: 2.4306\n",
      "Epoch 11/20\n",
      "23534/23534 [==============================] - 100s 4ms/step - loss: 2.3563 - val_loss: 2.4092\n",
      "Epoch 12/20\n",
      "23534/23534 [==============================] - 113s 5ms/step - loss: 2.3485 - val_loss: 2.4108\n",
      "Epoch 13/20\n",
      "23534/23534 [==============================] - 114s 5ms/step - loss: 2.3405 - val_loss: 2.4023\n",
      "Epoch 14/20\n",
      "23534/23534 [==============================] - 111s 5ms/step - loss: 2.3349 - val_loss: 2.4096\n",
      "Epoch 15/20\n",
      "23534/23534 [==============================] - 102s 4ms/step - loss: 2.3341 - val_loss: 2.4057\n",
      "Epoch 16/20\n",
      "23534/23534 [==============================] - 98s 4ms/step - loss: 2.3273 - val_loss: 2.3905\n",
      "Epoch 17/20\n",
      "23534/23534 [==============================] - 99s 4ms/step - loss: 2.3231 - val_loss: 2.3957\n",
      "Epoch 18/20\n",
      "23534/23534 [==============================] - 99s 4ms/step - loss: 2.3180 - val_loss: 2.3867\n",
      "Epoch 19/20\n",
      "23534/23534 [==============================] - 101s 4ms/step - loss: 2.3164 - val_loss: 2.3832\n",
      "Epoch 20/20\n",
      "23534/23534 [==============================] - 100s 4ms/step - loss: 2.3136 - val_loss: 2.3857\n"
     ]
    }
   ],
   "source": [
    "history = full_train()\n"
   ]
  },
  {
   "cell_type": "code",
   "execution_count": 62,
   "metadata": {},
   "outputs": [
    {
     "name": "stderr",
     "output_type": "stream",
     "text": [
      "C:\\ProgramData\\Anaconda3\\lib\\site-packages\\ipykernel_launcher.py:4: DeprecationWarning: `spline` is deprecated!\n",
      "spline is deprecated in scipy 0.19.0, use Bspline class instead.\n",
      "  after removing the cwd from sys.path.\n",
      "C:\\ProgramData\\Anaconda3\\lib\\site-packages\\matplotlib\\cbook\\deprecation.py:106: MatplotlibDeprecationWarning: Adding an axes using the same arguments as a previous axes currently reuses the earlier instance.  In a future version, a new instance will always be created and returned.  Meanwhile, this warning can be suppressed, and the future behavior ensured, by passing a unique label to each axes instance.\n",
      "  warnings.warn(message, mplDeprecation, stacklevel=1)\n"
     ]
    },
    {
     "data": {
      "image/png": "[encoded data removed]",
      "text/plain": [
       "<matplotlib.figure.Figure at 0x10aa7668>"
      ]
     },
     "metadata": {},
     "output_type": "display_data"
    }
   ],
   "source": [
    "# Interpolate a smooth curve from the raw validation loss\n",
    "n_epochs = len(history.history['val_loss'])\n",
    "x_smooth = np.linspace(0, n_epochs-1, num=10)\n",
    "y_smooth = spline(range(n_epochs), history.history['val_loss'], x_smooth)\n",
    "\n",
    "plt.figure(figsize=(15, 7))\n",
    "plt.plot(history.history['loss'])\n",
    "plt.plot(history.history['val_loss'])\n",
    "plt.plot(x_smooth, y_smooth)\n",
    "plt.title('Evolution of loss values during training')\n",
    "plt.ylabel('loss')\n",
    "plt.xlabel('epoch')\n",
    "plt.xticks(fontsize=12)\n",
    "plt.axes().xaxis.set_major_locator(MultipleLocator(1))\n",
    "plt.legend(['train', 'validation', 'smoothened validation'], loc='upper right')\n",
    "plt.show()"
   ]
  },
  {
   "cell_type": "code",
   "execution_count": 63,
   "metadata": {},
   "outputs": [],
   "source": [
    "data = load_data()"
   ]
  },
  {
   "cell_type": "code",
   "execution_count": 64,
   "metadata": {},
   "outputs": [
    {
     "data": {
      "text/html": [
       "<div>\n",
       "<style>\n",
       "    .dataframe thead tr:only-child th {\n",
       "        text-align: right;\n",
       "    }\n",
       "\n",
       "    .dataframe thead th {\n",
       "        text-align: left;\n",
       "    }\n",
       "\n",
       "    .dataframe tbody tr th {\n",
       "        vertical-align: top;\n",
       "    }\n",
       "</style>\n",
       "<table border=\"1\" class=\"dataframe\">\n",
       "  <thead>\n",
       "    <tr style=\"text-align: right;\">\n",
       "      <th></th>\n",
       "      <th>Unnamed: 0</th>\n",
       "      <th>TRIP_ID</th>\n",
       "      <th>CALL_TYPE</th>\n",
       "      <th>ORIGIN_CALL</th>\n",
       "      <th>ORIGIN_STAND</th>\n",
       "      <th>TAXI_ID</th>\n",
       "      <th>TIMESTAMP</th>\n",
       "      <th>POLYLINE</th>\n",
       "      <th>START_LAT</th>\n",
       "      <th>START_LONG</th>\n",
       "      <th>QUARTER_HOUR</th>\n",
       "      <th>DAY_OF_WEEK</th>\n",
       "      <th>WEEK_OF_YEAR</th>\n",
       "      <th>DURATION</th>\n",
       "      <th>ORIGIN_CALL_ENCODED</th>\n",
       "      <th>TAXI_ID_ENCODED</th>\n",
       "      <th>ORIGIN_STAND_ENCODED</th>\n",
       "      <th>POLYLINE_FULL</th>\n",
       "    </tr>\n",
       "  </thead>\n",
       "  <tbody>\n",
       "    <tr>\n",
       "      <th>18067</th>\n",
       "      <td>1241746</td>\n",
       "      <td>1396007001620000267</td>\n",
       "      <td>A</td>\n",
       "      <td>2002.0</td>\n",
       "      <td>NaN</td>\n",
       "      <td>20000267</td>\n",
       "      <td>2014-03-28 11:43:21</td>\n",
       "      <td>[(41.159646, -8.681697), (41.159574, -8.681868...</td>\n",
       "      <td>41.159646</td>\n",
       "      <td>-8.681697</td>\n",
       "      <td>46.866667</td>\n",
       "      <td>4</td>\n",
       "      <td>12</td>\n",
       "      <td>1800</td>\n",
       "      <td>2</td>\n",
       "      <td>172</td>\n",
       "      <td>0</td>\n",
       "      <td>[(41.159646, -8.681697), (41.159574, -8.681868...</td>\n",
       "    </tr>\n",
       "    <tr>\n",
       "      <th>20217</th>\n",
       "      <td>1379875</td>\n",
       "      <td>1398602704620000612</td>\n",
       "      <td>B</td>\n",
       "      <td>NaN</td>\n",
       "      <td>34.0</td>\n",
       "      <td>20000612</td>\n",
       "      <td>2014-04-27 12:45:04</td>\n",
       "      <td>[(41.140827, -8.615538), (41.140575, -8.61624)...</td>\n",
       "      <td>41.140827</td>\n",
       "      <td>-8.615538</td>\n",
       "      <td>51.000000</td>\n",
       "      <td>6</td>\n",
       "      <td>16</td>\n",
       "      <td>345</td>\n",
       "      <td>0</td>\n",
       "      <td>384</td>\n",
       "      <td>34</td>\n",
       "      <td>[(41.140827, -8.615538), (41.140575, -8.61624)...</td>\n",
       "    </tr>\n",
       "    <tr>\n",
       "      <th>8023</th>\n",
       "      <td>544123</td>\n",
       "      <td>1382741020620000665</td>\n",
       "      <td>C</td>\n",
       "      <td>NaN</td>\n",
       "      <td>NaN</td>\n",
       "      <td>20000665</td>\n",
       "      <td>2013-10-25 22:43:40</td>\n",
       "      <td>[(41.140863, -8.610129), (41.140854, -8.610111...</td>\n",
       "      <td>41.140863</td>\n",
       "      <td>-8.610129</td>\n",
       "      <td>90.866667</td>\n",
       "      <td>4</td>\n",
       "      <td>42</td>\n",
       "      <td>990</td>\n",
       "      <td>0</td>\n",
       "      <td>409</td>\n",
       "      <td>0</td>\n",
       "      <td>[(41.140863, -8.610129), (41.140854, -8.610111...</td>\n",
       "    </tr>\n",
       "  </tbody>\n",
       "</table>\n",
       "</div>"
      ],
      "text/plain": [
       "       Unnamed: 0              TRIP_ID CALL_TYPE  ORIGIN_CALL  ORIGIN_STAND  \\\n",
       "18067     1241746  1396007001620000267         A       2002.0           NaN   \n",
       "20217     1379875  1398602704620000612         B          NaN          34.0   \n",
       "8023       544123  1382741020620000665         C          NaN           NaN   \n",
       "\n",
       "        TAXI_ID           TIMESTAMP  \\\n",
       "18067  20000267 2014-03-28 11:43:21   \n",
       "20217  20000612 2014-04-27 12:45:04   \n",
       "8023   20000665 2013-10-25 22:43:40   \n",
       "\n",
       "                                                POLYLINE  START_LAT  \\\n",
       "18067  [(41.159646, -8.681697), (41.159574, -8.681868...  41.159646   \n",
       "20217  [(41.140827, -8.615538), (41.140575, -8.61624)...  41.140827   \n",
       "8023   [(41.140863, -8.610129), (41.140854, -8.610111...  41.140863   \n",
       "\n",
       "       START_LONG  QUARTER_HOUR  DAY_OF_WEEK  WEEK_OF_YEAR  DURATION  \\\n",
       "18067   -8.681697     46.866667            4            12      1800   \n",
       "20217   -8.615538     51.000000            6            16       345   \n",
       "8023    -8.610129     90.866667            4            42       990   \n",
       "\n",
       "       ORIGIN_CALL_ENCODED  TAXI_ID_ENCODED  ORIGIN_STAND_ENCODED  \\\n",
       "18067                    2              172                     0   \n",
       "20217                    0              384                    34   \n",
       "8023                     0              409                     0   \n",
       "\n",
       "                                           POLYLINE_FULL  \n",
       "18067  [(41.159646, -8.681697), (41.159574, -8.681868...  \n",
       "20217  [(41.140827, -8.615538), (41.140575, -8.61624)...  \n",
       "8023   [(41.140863, -8.610129), (41.140854, -8.610111...  "
      ]
     },
     "execution_count": 64,
     "metadata": {},
     "output_type": "execute_result"
    }
   ],
   "source": [
    "data.train.head(3)"
   ]
  }
 ],
 "metadata": {
  "kernelspec": {
   "display_name": "Python 3",
   "language": "python",
   "name": "python3"
  },
  "language_info": {
   "codemirror_mode": {
    "name": "ipython",
    "version": 3
   },
   "file_extension": ".py",
   "mimetype": "text/x-python",
   "name": "python",
   "nbconvert_exporter": "python",
   "pygments_lexer": "ipython3",
   "version": "3.6.3"
  }
 },
 "nbformat": 4,
 "nbformat_minor": 2
}
