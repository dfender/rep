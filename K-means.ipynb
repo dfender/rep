{
 "cells": [
  {
   "cell_type": "markdown",
   "metadata": {},
   "source": [
    "# K-means"
   ]
  },
  {
   "cell_type": "code",
   "execution_count": 32,
   "metadata": {
    "collapsed": true
   },
   "outputs": [],
   "source": [
    "%matplotlib inline\n",
    "import matplotlib.pyplot as plt\n",
    "import numpy as np"
   ]
  },
  {
   "cell_type": "code",
   "execution_count": 33,
   "metadata": {
    "collapsed": true
   },
   "outputs": [],
   "source": [
    "points = np.genfromtxt('Skin_NonSkin.txt', delimiter = '\\t')"
   ]
  },
  {
   "cell_type": "markdown",
   "metadata": {},
   "source": [
    "### Main functions"
   ]
  },
  {
   "cell_type": "code",
   "execution_count": 35,
   "metadata": {
    "collapsed": true
   },
   "outputs": [],
   "source": [
    "def initialize_centroids(points, k):\n",
    "    '''\n",
    "        Selects k random points as initial\n",
    "        points from dataset\n",
    "    '''\n",
    "    indices = np.random.permutation(points.shape[0])\n",
    "    return points[indices[:k]]"
   ]
  },
  {
   "cell_type": "code",
   "execution_count": 36,
   "metadata": {},
   "outputs": [
    {
     "data": {
      "text/plain": [
       "array([[ 129.,  135.,   94.,    2.],\n",
       "       [  96.,   57.,   72.,    2.],\n",
       "       [   3.,    3.,    0.,    2.]])"
      ]
     },
     "execution_count": 36,
     "metadata": {},
     "output_type": "execute_result"
    }
   ],
   "source": [
    "initialize_centroids(points, 3)"
   ]
  },
  {
   "cell_type": "code",
   "execution_count": 37,
   "metadata": {
    "collapsed": true
   },
   "outputs": [],
   "source": [
    "def closest_centroid(points, centroids):\n",
    "    '''\n",
    "        Returns an array containing the index to the nearest centroid for each point\n",
    "    '''\n",
    "    dists = np.sqrt(((points-centroids[:, np.newaxis])**2).sum(axis=2))\n",
    "    \n",
    "    return np.argmin(dists, axis=0)"
   ]
  },
  {
   "cell_type": "code",
   "execution_count": 38,
   "metadata": {},
   "outputs": [
    {
     "name": "stdout",
     "output_type": "stream",
     "text": [
      "centroids [[ 137.  134.   79.    2.]\n",
      " [ 130.  134.   93.    2.]\n",
      " [ 149.  151.  105.    2.]]\n",
      "points [[  74.   85.  123.    1.]\n",
      " [  73.   84.  122.    1.]\n",
      " [  72.   83.  121.    1.]\n",
      " ..., \n",
      " [ 163.  162.  112.    2.]\n",
      " [ 163.  162.  112.    2.]\n",
      " [ 255.  255.  255.    2.]]\n",
      "(3, 245057, 4)\n",
      "[1 1 1 ..., 2 2 2]\n"
     ]
    }
   ],
   "source": [
    "centroids = initialize_centroids(points, 3)\n",
    "print(\"centroids\", centroids)\n",
    "print(\"points\", points)\n",
    "print((points-centroids[:, np.newaxis]).shape)\n",
    "closest = closest_centroid(points, centroids)\n",
    "    \n",
    "print(closest)"
   ]
  },
  {
   "cell_type": "code",
   "execution_count": 39,
   "metadata": {
    "collapsed": true
   },
   "outputs": [],
   "source": [
    "def move_centroids(points, closest, centroids):\n",
    "    '''\n",
    "        Returns the new centroids assigned from the points closest to them\n",
    "    '''\n",
    "    return np.array([points[closest==i].mean(axis=0) for i in range(centroids.shape[0])])"
   ]
  },
  {
   "cell_type": "code",
   "execution_count": 40,
   "metadata": {},
   "outputs": [
    {
     "name": "stdout",
     "output_type": "stream",
     "text": [
      "3\n",
      "[ 63.76516061  63.04848589  27.41633028   2.        ]\n",
      "[  76.43993407   96.05697837  138.67909071    1.6086058 ]\n",
      "[ 167.20318438  174.84894508  162.49488403    1.75079681]\n",
      "[  73.   84.  122.    1.]\n"
     ]
    }
   ],
   "source": [
    "print(centroids.shape[0])\n",
    "for i in range(centroids.shape[0]):\n",
    "    print (points[closest==i].mean(axis=0))\n",
    "print(points[:3].mean(axis=0))"
   ]
  },
  {
   "cell_type": "code",
   "execution_count": 41,
   "metadata": {
    "collapsed": true
   },
   "outputs": [],
   "source": [
    "def main(points):\n",
    "    num_iterations = 100\n",
    "    k = 3\n",
    "        \n",
    "    # Initialize centroids\n",
    "    centroids = initialize_centroids(points, k)\n",
    "    \n",
    "    # Run iterative process\n",
    "    for i in range(num_iterations):\n",
    "        closest = closest_centroid(points, centroids)\n",
    "        centroids = move_centroids(points, closest, centroids)\n",
    "    \n",
    "    return centroids"
   ]
  },
  {
   "cell_type": "code",
   "execution_count": 42,
   "metadata": {
    "collapsed": true
   },
   "outputs": [],
   "source": [
    "centroids = main(points)"
   ]
  },
  {
   "cell_type": "code",
   "execution_count": 43,
   "metadata": {},
   "outputs": [
    {
     "data": {
      "image/png": "[encoded data removed]",
      "text/plain": [
       "<matplotlib.figure.Figure at 0x8d976d8>"
      ]
     },
     "metadata": {},
     "output_type": "display_data"
    }
   ],
   "source": [
    "centroids = initialize_centroids(points, 3)\n",
    "\n",
    "plt.scatter(points[:, 0], points[:, 1])\n",
    "plt.scatter(centroids[:, 0], centroids[:, 1], c='r', s=100)\n",
    "ax = plt.gca()"
   ]
  },
  {
   "cell_type": "code",
   "execution_count": 44,
   "metadata": {},
   "outputs": [
    {
     "data": {
      "image/png": "[encoded data removed]",
      "text/plain": [
       "<matplotlib.figure.Figure at 0x8d97828>"
      ]
     },
     "metadata": {},
     "output_type": "display_data"
    }
   ],
   "source": [
    "closest = closest_centroid(points, centroids)\n",
    "centroids = move_centroids(points, closest, centroids)\n",
    "\n",
    "plt.scatter(points[:, 0], points[:, 1])\n",
    "plt.scatter(centroids[:, 0], centroids[:, 1], c='r', s=100)\n",
    "ax = plt.gca()"
   ]
  }
 ],
 "metadata": {
  "kernelspec": {
   "display_name": "Python 3",
   "language": "python",
   "name": "python3"
  },
  "language_info": {
   "codemirror_mode": {
    "name": "ipython",
    "version": 3
   },
   "file_extension": ".py",
   "mimetype": "text/x-python",
   "name": "python",
   "nbconvert_exporter": "python",
   "pygments_lexer": "ipython3",
   "version": "3.6.3"
  }
 },
 "nbformat": 4,
 "nbformat_minor": 2
}
